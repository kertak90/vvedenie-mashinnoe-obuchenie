{
 "cells": [
  {
   "cell_type": "code",
   "execution_count": 2,
   "id": "1318303d-44de-4c54-b1f0-d214c2a30fce",
   "metadata": {},
   "outputs": [],
   "source": [
    "import pandas as pd\n",
    "import numpy as nm"
   ]
  },
  {
   "cell_type": "code",
   "execution_count": 3,
   "id": "004e40b4-e21e-4c5e-a232-bd2a5ba97814",
   "metadata": {},
   "outputs": [],
   "source": [
    "data = pd.read_csv('titanic.csv',index_col='PassengerId')\n",
    "totalPeopleCount = data['Name'].count()"
   ]
  },
  {
   "cell_type": "code",
   "execution_count": 8,
   "id": "04bec9b3-ac3c-4844-ae5c-92b3c5d473ad",
   "metadata": {},
   "outputs": [
    {
     "name": "stdout",
     "output_type": "stream",
     "text": [
      "891\n"
     ]
    }
   ],
   "source": [
    "print(totalPeopleCount)"
   ]
  },
  {
   "cell_type": "code",
   "execution_count": 9,
   "id": "e4beef37-d4fe-4b51-8cf5-2ca2f1f29e16",
   "metadata": {},
   "outputs": [
    {
     "name": "stdout",
     "output_type": "stream",
     "text": [
      "mans count:  577\n"
     ]
    }
   ],
   "source": [
    "mans = data.where(data['Sex'] == 'male')\n",
    "print(\"mans count: {:4d}\".format(mans['Name'].count()))"
   ]
  },
  {
   "cell_type": "code",
   "execution_count": 10,
   "id": "422a11b7-06a4-43d6-b418-90dd26f74754",
   "metadata": {},
   "outputs": [
    {
     "name": "stdout",
     "output_type": "stream",
     "text": [
      "womans count:  314\n"
     ]
    }
   ],
   "source": [
    "womans = data.where(data['Sex'] == 'female')\n",
    "print(\"womans count: {:4d}\".format(womans['Name'].count()))"
   ]
  },
  {
   "cell_type": "code",
   "execution_count": 31,
   "id": "61f75db1-6722-48c5-9587-69021863a635",
   "metadata": {},
   "outputs": [
    {
     "name": "stdout",
     "output_type": "stream",
     "text": [
      "survived people 342\n",
      "survived man count 109\n",
      "survived woman count 233\n",
      "survived percentage 38.38383838383838\n"
     ]
    }
   ],
   "source": [
    "survived = data.where(data['Survived'] == 1)\n",
    "survivedPeopleCount = survived['Name'].count()\n",
    "survivedManCount = survived.where(data['Sex'] == 'male')['Name'].count()\n",
    "survivedWomanCount = survived.where(data['Sex'] == 'female')['Name'].count()\n",
    "survivedPeoplePercentage = survivedPeopleCount / totalPeopleCount * 100\n",
    "print(\"survived people {:d}\".format(survivedPeopleCount))\n",
    "print(\"survived man count {:d}\".format(survivedManCount))\n",
    "print(\"survived woman count {:d}\".format(survivedWomanCount))\n",
    "print(\"survived percentage {0}\".format(survivedPeoplePercentage))"
   ]
  },
  {
   "cell_type": "code",
   "execution_count": 20,
   "id": "7436286b-f461-4fc4-82e3-c0a285fddacd",
   "metadata": {},
   "outputs": [
    {
     "name": "stdout",
     "output_type": "stream",
     "text": [
      "first class percentage 24.242424242424242\n"
     ]
    }
   ],
   "source": [
    "firstClassPeopleCount = data.where(data['Pclass'] == 1)['Name'].count()\n",
    "firstClassPeoplePercentage = firstClassPeopleCount / totalPeopleCount * 100\n",
    "print(\"first class percentage {0}\".format(firstClassPeoplePercentage))"
   ]
  },
  {
   "cell_type": "code",
   "execution_count": 25,
   "id": "bf4a2ccd-43e2-43b0-8f35-5f9483b556ec",
   "metadata": {},
   "outputs": [
    {
     "name": "stdout",
     "output_type": "stream",
     "text": [
      "average age 23.79929292929293\n"
     ]
    }
   ],
   "source": [
    "averageAge = nm.sum(data['Age']) / totalPeopleCount\n",
    "print(\"average age {0}\".format(averageAge))"
   ]
  },
  {
   "cell_type": "code",
   "execution_count": 28,
   "id": "deb170f5-c198-4bc0-8098-f29ef9d8e7e3",
   "metadata": {},
   "outputs": [
    {
     "name": "stdout",
     "output_type": "stream",
     "text": [
      "28.0\n"
     ]
    }
   ],
   "source": [
    "medianAge = data['Age'].median()\n",
    "print(medianAge)"
   ]
  },
  {
   "cell_type": "code",
   "execution_count": 14,
   "id": "67f5079b-4b29-4dcb-90b7-5e736b807a58",
   "metadata": {},
   "outputs": [],
   "source": [
    "sibsp = data[['SibSp', 'Parch']]\n",
    "parch = data['Parch']"
   ]
  },
  {
   "cell_type": "code",
   "execution_count": 15,
   "id": "50aaef6a-7a8b-4ab5-842d-ec1272976d72",
   "metadata": {},
   "outputs": [
    {
     "name": "stdout",
     "output_type": "stream",
     "text": [
      "          SibSp     Parch\n",
      "SibSp  1.000000  0.414838\n",
      "Parch  0.414838  1.000000\n"
     ]
    }
   ],
   "source": [
    "correlation = sibsp.corr()\n",
    "print(correlation)"
   ]
  },
  {
   "cell_type": "code",
   "execution_count": 4,
   "id": "7d49e912-3518-46e4-b7c1-9893d4eaeeeb",
   "metadata": {},
   "outputs": [
    {
     "name": "stdout",
     "output_type": "stream",
     "text": [
      "PassengerId\n",
      "1                                                    NaN\n",
      "2      Cumings, Mrs. John Bradley (Florence Briggs Th...\n",
      "3                                 Heikkinen, Miss. Laina\n",
      "4           Futrelle, Mrs. Jacques Heath (Lily May Peel)\n",
      "5                                                    NaN\n",
      "                             ...                        \n",
      "887                                                  NaN\n",
      "888                         Graham, Miss. Margaret Edith\n",
      "889             Johnston, Miss. Catherine Helen \"Carrie\"\n",
      "890                                                  NaN\n",
      "891                                                  NaN\n",
      "Name: Name, Length: 891, dtype: object\n"
     ]
    }
   ],
   "source": [
    "womanFullNames = data.where(data['Sex'] == 'female')['Name']\n",
    "print(womanFullNames)"
   ]
  },
  {
   "cell_type": "code",
   "execution_count": 19,
   "id": "56ed8355-ba4b-4d98-a66e-dcd34a58f38c",
   "metadata": {},
   "outputs": [
    {
     "name": "stdout",
     "output_type": "stream",
     "text": [
      "               0    1\n",
      "PassengerId          \n",
      "1            NaN  NaN\n",
      "2            NaN  NaN\n",
      "3            NaN  NaN\n",
      "4            NaN  NaN\n",
      "5            NaN  NaN\n",
      "6            NaN  NaN\n",
      "7            NaN  NaN\n",
      "8            NaN  NaN\n",
      "9            NaN  NaN\n",
      "10           NaN  NaN\n"
     ]
    }
   ],
   "source": [
    "import re\n",
    "womanFirstNames = womanFullNames.str.extract('((A-Z){2}(a-z)(1,))')\n",
    "print(womanFirstNames[:10])"
   ]
  }
 ],
 "metadata": {
  "kernelspec": {
   "display_name": "Python 3",
   "language": "python",
   "name": "python3"
  },
  "language_info": {
   "codemirror_mode": {
    "name": "ipython",
    "version": 3
   },
   "file_extension": ".py",
   "mimetype": "text/x-python",
   "name": "python",
   "nbconvert_exporter": "python",
   "pygments_lexer": "ipython3",
   "version": "3.8.5"
  }
 },
 "nbformat": 4,
 "nbformat_minor": 5
}
